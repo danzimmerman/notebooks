{
 "cells": [
  {
   "cell_type": "code",
   "execution_count": 1,
   "metadata": {
    "collapsed": true
   },
   "outputs": [],
   "source": [
    "import sympy as sp\n",
    "import numpy as np\n",
    "import scipy.integrate\n",
    "cfloat = 299792498.0"
   ]
  },
  {
   "cell_type": "code",
   "execution_count": 446,
   "metadata": {
    "collapsed": false
   },
   "outputs": [
    {
     "name": "stdout",
     "output_type": "stream",
     "text": [
      "[-20. -10.  -5.   0.  10.  20.  30.  40.]\n"
     ]
    }
   ],
   "source": [
    "z = np.array([-20.0,-10.0,-5.0,0.0,10.0,20.0,30.0,40.0])\n",
    "freqfloat = 7.0e6\n",
    "wlfloat = cfloat/freqfloat\n",
    "kfloat = 2*np.pi/wlfloat\n",
    "print z"
   ]
  },
  {
   "cell_type": "code",
   "execution_count": 447,
   "metadata": {
    "collapsed": true
   },
   "outputs": [],
   "source": [
    "e = np.zeros(len(z),dtype=np.complex_)"
   ]
  },
  {
   "cell_type": "code",
   "execution_count": 448,
   "metadata": {
    "collapsed": false
   },
   "outputs": [],
   "source": [
    "for j,zc in enumerate(z):\n",
    "    e[j] = np.exp(-1j*zc*kfloat*np.cos(0.0*np.pi/180.0))"
   ]
  },
  {
   "cell_type": "code",
   "execution_count": 449,
   "metadata": {
    "collapsed": false
   },
   "outputs": [
    {
     "data": {
      "text/plain": [
       "array([-0.97856754+0.20592612j,  0.10351922+0.99462745j,\n",
       "        0.74280523+0.66950757j,  1.00000000+0.j        ,\n",
       "        0.10351922-0.99462745j, -0.97856754-0.20592612j,\n",
       "       -0.30612032+0.95199283j,  0.91518887+0.40302523j])"
      ]
     },
     "execution_count": 449,
     "metadata": {},
     "output_type": "execute_result"
    }
   ],
   "source": [
    "e"
   ]
  },
  {
   "cell_type": "code",
   "execution_count": null,
   "metadata": {
    "collapsed": false
   },
   "outputs": [],
   "source": [
    "  "
   ]
  },
  {
   "cell_type": "code",
   "execution_count": null,
   "metadata": {
    "collapsed": false
   },
   "outputs": [],
   "source": []
  },
  {
   "cell_type": "code",
   "execution_count": 542,
   "metadata": {
    "collapsed": false
   },
   "outputs": [],
   "source": [
    "def blmnum_integrand(th,phi,zl,zm):\n",
    "    return 1/(4*np.pi)*np.power(np.cos(phi),2)*np.exp(1j*kfloat*(zm-zl)*np.cos(th))*np.sin(th)\n",
    "\n"
   ]
  },
  {
   "cell_type": "code",
   "execution_count": 543,
   "metadata": {
    "collapsed": false
   },
   "outputs": [],
   "source": [
    "def blmnum(zl,zm):\n",
    "    rlprt = scipy.integrate.nquad(lambda th,ph: np.real(blmnum_integrand(th,ph,zl,zm)),[[0,np.pi],[0,2*np.pi]])\n",
    "    imprt = scipy.integrate.nquad(lambda th,ph: np.imag(blmnum_integrand(th,ph,zl,zm)),[[0,np.pi],[0,2*np.pi]])\n",
    "    return rlprt[0]+1j*imprt[0]"
   ]
  },
  {
   "cell_type": "code",
   "execution_count": null,
   "metadata": {
    "collapsed": false
   },
   "outputs": [],
   "source": []
  },
  {
   "cell_type": "code",
   "execution_count": 544,
   "metadata": {
    "collapsed": false
   },
   "outputs": [],
   "source": [
    "B = np.zeros([len(z),len(z)],dtype=np.complex_)\n",
    "for l,zl in enumerate(z):\n",
    "    for m,zm in enumerate(z):\n",
    "        B[l,m] = blmnum(zl,zm)"
   ]
  },
  {
   "cell_type": "code",
   "execution_count": 545,
   "metadata": {
    "collapsed": false
   },
   "outputs": [],
   "source": [
    "Binv = np.linalg.inv(B)"
   ]
  },
  {
   "cell_type": "code",
   "execution_count": 546,
   "metadata": {
    "collapsed": false
   },
   "outputs": [],
   "source": [
    "Iopt = np.matmul(Binv,e)"
   ]
  },
  {
   "cell_type": "code",
   "execution_count": 547,
   "metadata": {
    "collapsed": true
   },
   "outputs": [],
   "source": [
    "Iopt = Iopt/np.max(np.abs(Iopt))"
   ]
  },
  {
   "cell_type": "code",
   "execution_count": 548,
   "metadata": {
    "collapsed": false
   },
   "outputs": [
    {
     "name": "stdout",
     "output_type": "stream",
     "text": [
      "I1: 0.036A phase: -177.15 \n",
      "I2: 0.422A phase: 9.93 \n",
      "I3: 1.000A phase: -167.09 \n",
      "I4: 0.844A phase: 15.79 \n",
      "I5: 0.355A phase: -158.68 \n",
      "I6: 0.178A phase: 27.00 \n",
      "I7: 0.067A phase: -147.18 \n",
      "I8: 0.015A phase: 40.66 \n"
     ]
    }
   ],
   "source": [
    "for i,current in enumerate(Iopt): \n",
    "    print 'I{0}: {1:.3f}A'.format(i+1, abs(current)), 'phase: {0:.2f} '.format(np.angle(current)*180.0/np.pi)"
   ]
  },
  {
   "cell_type": "code",
   "execution_count": null,
   "metadata": {
    "collapsed": false
   },
   "outputs": [],
   "source": []
  },
  {
   "cell_type": "code",
   "execution_count": 549,
   "metadata": {
    "collapsed": false
   },
   "outputs": [],
   "source": [
    "A = np.outer(e,e.conj())"
   ]
  },
  {
   "cell_type": "markdown",
   "metadata": {},
   "source": [
    "###### "
   ]
  },
  {
   "cell_type": "code",
   "execution_count": 550,
   "metadata": {
    "collapsed": false
   },
   "outputs": [],
   "source": [
    "numerator = np.matmul(np.matmul(Iopt.conj(),A),Iopt)"
   ]
  },
  {
   "cell_type": "code",
   "execution_count": 551,
   "metadata": {
    "collapsed": false
   },
   "outputs": [],
   "source": [
    "denominator = np.matmul(np.matmul(Iopt.conj(),B),Iopt)"
   ]
  },
  {
   "cell_type": "code",
   "execution_count": 552,
   "metadata": {
    "collapsed": false
   },
   "outputs": [
    {
     "data": {
      "text/plain": [
       "(70.626446277514816-7.4144392138906482e-10j)"
      ]
     },
     "execution_count": 552,
     "metadata": {},
     "output_type": "execute_result"
    }
   ],
   "source": [
    "numerator/denominator"
   ]
  },
  {
   "cell_type": "code",
   "execution_count": 553,
   "metadata": {
    "collapsed": false
   },
   "outputs": [
    {
     "name": "stdout",
     "output_type": "stream",
     "text": [
      "Directivity in decibels 18.49\n"
     ]
    }
   ],
   "source": [
    "dirdB = 10*np.log10(np.real(numerator/denominator))\n",
    "print 'Directivity in decibels {0:.2f}'.format(dirdB)"
   ]
  },
  {
   "cell_type": "code",
   "execution_count": 554,
   "metadata": {
    "collapsed": true
   },
   "outputs": [],
   "source": [
    "sp.init_printing()"
   ]
  },
  {
   "cell_type": "code",
   "execution_count": 555,
   "metadata": {
    "collapsed": false
   },
   "outputs": [],
   "source": [
    "maxgain = -32.28"
   ]
  },
  {
   "cell_type": "code",
   "execution_count": 556,
   "metadata": {
    "collapsed": false
   },
   "outputs": [],
   "source": [
    "avg_gain = -49.22"
   ]
  },
  {
   "cell_type": "code",
   "execution_count": 557,
   "metadata": {
    "collapsed": false
   },
   "outputs": [
    {
     "name": "stdout",
     "output_type": "stream",
     "text": [
      "16.94\n"
     ]
    }
   ],
   "source": [
    "dirEZ = maxgain-avg_gain\n",
    "print dirEZ"
   ]
  },
  {
   "cell_type": "code",
   "execution_count": null,
   "metadata": {
    "collapsed": false
   },
   "outputs": [],
   "source": []
  },
  {
   "cell_type": "code",
   "execution_count": null,
   "metadata": {
    "collapsed": true
   },
   "outputs": [],
   "source": []
  },
  {
   "cell_type": "code",
   "execution_count": null,
   "metadata": {
    "collapsed": true
   },
   "outputs": [],
   "source": []
  }
 ],
 "metadata": {
  "kernelspec": {
   "display_name": "Python 2",
   "language": "python",
   "name": "python2"
  },
  "language_info": {
   "codemirror_mode": {
    "name": "ipython",
    "version": 2
   },
   "file_extension": ".py",
   "mimetype": "text/x-python",
   "name": "python",
   "nbconvert_exporter": "python",
   "pygments_lexer": "ipython2",
   "version": "2.7.11"
  }
 },
 "nbformat": 4,
 "nbformat_minor": 0
}
